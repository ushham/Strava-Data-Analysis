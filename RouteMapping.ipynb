{
 "cells": [
  {
   "cell_type": "markdown",
   "metadata": {},
   "source": [
    "# Mapping strava routes"
   ]
  },
  {
   "cell_type": "markdown",
   "metadata": {},
   "source": [
    "Point the notebook to the folder where the gpx are sitting"
   ]
  },
  {
   "cell_type": "code",
   "execution_count": null,
   "metadata": {},
   "outputs": [],
   "source": [
    "my_folder = '/Users/ushhamilton/Documents/40_Map_Data/Cycle Touring/2022/gpx/'"
   ]
  },
  {
   "cell_type": "code",
   "execution_count": null,
   "metadata": {},
   "outputs": [],
   "source": [
    "import os\n",
    "import math\n",
    "import pandas as pd\n",
    "import numpy as np\n",
    "import gpxpy as gp\n",
    "from gpxpy.geo import distance\n",
    "import matplotlib as mpl\n",
    "import matplotlib.pyplot as plt\n",
    "import cartopy.crs as ccrs\n",
    "import cartopy.feature as cfeature"
   ]
  },
  {
   "cell_type": "code",
   "execution_count": null,
   "metadata": {},
   "outputs": [],
   "source": [
    "data_files = [] # populate this list if you want to specify only certain files in the folder\n",
    "\n",
    "if len(data_files) == 0:\n",
    "    data_files = os.listdir(my_folder)\n",
    "\n",
    "data_files"
   ]
  },
  {
   "cell_type": "code",
   "execution_count": null,
   "metadata": {},
   "outputs": [],
   "source": [
    "gpx_files = list()\n",
    "for file in data_files:\n",
    "    gpx_file = open(my_folder + '/' + file, 'r')\n",
    "    gpx_files.append(gp.parse(gpx_file))"
   ]
  },
  {
   "cell_type": "code",
   "execution_count": null,
   "metadata": {},
   "outputs": [],
   "source": [
    "temp_data = list()\n",
    "for gpx in gpx_files:\n",
    "    for track in gpx.tracks:\n",
    "        for segment in track.segments:\n",
    "            for point in segment.points:\n",
    "                temp_data.append([point.time, point.latitude, point.longitude, point.elevation])"
   ]
  },
  {
   "cell_type": "code",
   "execution_count": null,
   "metadata": {},
   "outputs": [],
   "source": [
    "total_data = pd.DataFrame(temp_data, columns=['time', 'lat', 'lon', 'ele'])\n",
    "total_data['date'] = total_data['time'].dt.date\n",
    "total_data = total_data.sort_values(by=['time'])\n",
    "\n",
    "# Calculate distance\n",
    "temp_dist = [0]\n",
    "temp_ele = [0]\n",
    "for (ix1, row1), (ix2, row2) in zip(total_data.iloc[:-1].iterrows(), total_data.iloc[1:].iterrows()):\n",
    "    temp_dist.append(distance(\n",
    "                        latitude_1=row1['lat'],\n",
    "                        longitude_1=row1['lon'], \n",
    "                        elevation_1=None,\n",
    "                        latitude_2=row2['lat'],\n",
    "                        longitude_2=row2['lon'], \n",
    "                        elevation_2=None))\n",
    "    temp_ele.append(row2['ele'] - row1['ele'])\n",
    "\n",
    "total_data['dist'] = temp_dist\n",
    "total_data['ele_delta'] = temp_ele\n",
    "total_data['CumDist'] = total_data['dist'].cumsum()\n",
    "\n",
    "total_data.head()"
   ]
  },
  {
   "cell_type": "markdown",
   "metadata": {},
   "source": [
    "We need to filter these points as there are too many to plot, and we only need a point every 100 or so metres"
   ]
  },
  {
   "cell_type": "code",
   "execution_count": null,
   "metadata": {},
   "outputs": [],
   "source": [
    "def filter_points(df, gaps=100):\n",
    "    # Defualt to taking a point every 100 metres\n",
    "    total_data['CumDist_div'] = (total_data['CumDist'] / gaps).astype(int)\n",
    "    filtered = total_data[total_data['CumDist_div'] != total_data['CumDist_div'].shift(1)]\n",
    "    return filtered.drop('CumDist_div', axis=1)\n",
    "\n",
    "filtered_data = filter_points(total_data)"
   ]
  },
  {
   "cell_type": "code",
   "execution_count": null,
   "metadata": {},
   "outputs": [],
   "source": [
    "filtered_data"
   ]
  },
  {
   "cell_type": "code",
   "execution_count": null,
   "metadata": {},
   "outputs": [],
   "source": [
    "cmap = mpl.colormaps['Reds']\n",
    "filtered_data['perc_ele'] = filtered_data['ele'] / filtered_data['ele'].max()\n"
   ]
  },
  {
   "cell_type": "code",
   "execution_count": null,
   "metadata": {},
   "outputs": [],
   "source": [
    "lat, lon, ele = filtered_data['lat'].to_list(), filtered_data['lon'].to_list(), filtered_data['ele'].to_list()\n",
    "segs = np.array([[(lon[i], lat[i]), (lon[i+1], lat[i+1])] for i in range(len(lat)-1)])"
   ]
  },
  {
   "cell_type": "code",
   "execution_count": null,
   "metadata": {},
   "outputs": [],
   "source": [
    "def roundup(x, nearest):\n",
    "    return int(math.ceil(x / nearest)) * nearest\n",
    "\n",
    "cols = mpl.collections.LineCollection(segs, cmap=cmap, norm=mpl.colors.Normalize(0, roundup(np.max(ele), 100)), transform=ccrs.PlateCarree(), linewidth=4)\n",
    "cols.set_array(ele[:-1])\n",
    "\n",
    "fig = plt.figure(figsize=(12, 8))\n",
    "\n",
    "boarder = 1\n",
    "map_extent = [filtered_data['lon'].min() - boarder, filtered_data['lon'].max() + boarder, filtered_data['lat'].min() - boarder, filtered_data['lat'].max() + boarder]\n",
    "\n",
    "ax = plt.axes(projection=ccrs.PlateCarree())\n",
    "\n",
    "ax.set_extent(map_extent, crs=ccrs.PlateCarree())\n",
    "# ax.add_feature(cfeature.LAND)\n",
    "ax.add_feature(cfeature.OCEAN)\n",
    "ax.add_feature(cfeature.COASTLINE)\n",
    "ax.add_feature(cfeature.BORDERS, linestyle=':')\n",
    "ax.add_feature(cfeature.LAKES, alpha=0.5)\n",
    "ax.add_feature(cfeature.RIVERS)\n",
    "\n",
    "\n",
    "ax.add_collection(cols)\n",
    "plt.colorbar(cols, ax=ax, ticks=[0, roundup(np.max(ele)/2, 100), roundup(np.max(ele), 100)])\n",
    "\n",
    "\n",
    "plt.show()"
   ]
  }
 ],
 "metadata": {
  "kernelspec": {
   "display_name": "venv",
   "language": "python",
   "name": "python3"
  },
  "language_info": {
   "codemirror_mode": {
    "name": "ipython",
    "version": 3
   },
   "file_extension": ".py",
   "mimetype": "text/x-python",
   "name": "python",
   "nbconvert_exporter": "python",
   "pygments_lexer": "ipython3",
   "version": "3.11.6"
  }
 },
 "nbformat": 4,
 "nbformat_minor": 2
}
