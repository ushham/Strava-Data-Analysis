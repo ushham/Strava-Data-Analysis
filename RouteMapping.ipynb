{
 "cells": [
  {
   "cell_type": "markdown",
   "metadata": {},
   "source": [
    "# Mapping strava routes"
   ]
  },
  {
   "cell_type": "markdown",
   "metadata": {},
   "source": [
    "Point the notebook to the folder where the gpx are sitting"
   ]
  },
  {
   "cell_type": "code",
   "execution_count": 1,
   "metadata": {},
   "outputs": [],
   "source": [
    "my_folder = '/Users/ushhamilton/Documents/40_Map_Data/Cycle Touring/2022/gpx/'"
   ]
  },
  {
   "cell_type": "code",
   "execution_count": 15,
   "metadata": {},
   "outputs": [],
   "source": [
    "import os\n",
    "import pandas as pd\n",
    "import numpy as np\n",
    "import gpxpy as gp\n",
    "from gpxpy.geo import distance\n",
    "import matplotlib as mpl\n",
    "import matplotlib.pyplot as plt"
   ]
  },
  {
   "cell_type": "code",
   "execution_count": 3,
   "metadata": {},
   "outputs": [
    {
     "data": {
      "text/plain": [
       "['Into_Italy.gpx',\n",
       " 'Dolomite_ride.gpx',\n",
       " 'The_easy_day.gpx',\n",
       " 'Dunzo_hunzo.gpx',\n",
       " 'To_the_train.gpx',\n",
       " 'A_pass_for_breakfast_and_lunch.gpx',\n",
       " 'Legs_cooked_to_perfection.gpx']"
      ]
     },
     "execution_count": 3,
     "metadata": {},
     "output_type": "execute_result"
    }
   ],
   "source": [
    "data_files = [] # populate this list if you want to specify only certain files in the folder\n",
    "\n",
    "if len(data_files) == 0:\n",
    "    data_files = os.listdir(my_folder)\n",
    "\n",
    "data_files"
   ]
  },
  {
   "cell_type": "code",
   "execution_count": 4,
   "metadata": {},
   "outputs": [],
   "source": [
    "gpx_files = list()\n",
    "for file in data_files:\n",
    "    gpx_file = open(my_folder + '/' + file, 'r')\n",
    "    gpx_files.append(gp.parse(gpx_file))"
   ]
  },
  {
   "cell_type": "code",
   "execution_count": 5,
   "metadata": {},
   "outputs": [],
   "source": [
    "temp_data = list()\n",
    "for gpx in gpx_files:\n",
    "    for track in gpx.tracks:\n",
    "        for segment in track.segments:\n",
    "            for point in segment.points:\n",
    "                temp_data.append([point.time, point.latitude, point.longitude, point.elevation])"
   ]
  },
  {
   "cell_type": "code",
   "execution_count": 6,
   "metadata": {},
   "outputs": [
    {
     "data": {
      "text/html": [
       "<div>\n",
       "<style scoped>\n",
       "    .dataframe tbody tr th:only-of-type {\n",
       "        vertical-align: middle;\n",
       "    }\n",
       "\n",
       "    .dataframe tbody tr th {\n",
       "        vertical-align: top;\n",
       "    }\n",
       "\n",
       "    .dataframe thead th {\n",
       "        text-align: right;\n",
       "    }\n",
       "</style>\n",
       "<table border=\"1\" class=\"dataframe\">\n",
       "  <thead>\n",
       "    <tr style=\"text-align: right;\">\n",
       "      <th></th>\n",
       "      <th>time</th>\n",
       "      <th>lat</th>\n",
       "      <th>lon</th>\n",
       "      <th>ele</th>\n",
       "      <th>date</th>\n",
       "      <th>dist</th>\n",
       "      <th>ele_delta</th>\n",
       "      <th>CumDist</th>\n",
       "    </tr>\n",
       "  </thead>\n",
       "  <tbody>\n",
       "    <tr>\n",
       "      <th>33816</th>\n",
       "      <td>2022-07-10 09:03:59+00:00</td>\n",
       "      <td>47.592552</td>\n",
       "      <td>12.180832</td>\n",
       "      <td>491.1</td>\n",
       "      <td>2022-07-10</td>\n",
       "      <td>0.000000</td>\n",
       "      <td>0.0</td>\n",
       "      <td>0.000000</td>\n",
       "    </tr>\n",
       "    <tr>\n",
       "      <th>33817</th>\n",
       "      <td>2022-07-10 09:04:00+00:00</td>\n",
       "      <td>47.592548</td>\n",
       "      <td>12.180844</td>\n",
       "      <td>491.2</td>\n",
       "      <td>2022-07-10</td>\n",
       "      <td>1.004920</td>\n",
       "      <td>0.1</td>\n",
       "      <td>1.004920</td>\n",
       "    </tr>\n",
       "    <tr>\n",
       "      <th>33818</th>\n",
       "      <td>2022-07-10 09:04:01+00:00</td>\n",
       "      <td>47.592545</td>\n",
       "      <td>12.180855</td>\n",
       "      <td>491.2</td>\n",
       "      <td>2022-07-10</td>\n",
       "      <td>0.890781</td>\n",
       "      <td>0.0</td>\n",
       "      <td>1.895702</td>\n",
       "    </tr>\n",
       "    <tr>\n",
       "      <th>33819</th>\n",
       "      <td>2022-07-10 09:04:02+00:00</td>\n",
       "      <td>47.592544</td>\n",
       "      <td>12.180858</td>\n",
       "      <td>491.2</td>\n",
       "      <td>2022-07-10</td>\n",
       "      <td>0.251230</td>\n",
       "      <td>0.0</td>\n",
       "      <td>2.146932</td>\n",
       "    </tr>\n",
       "    <tr>\n",
       "      <th>33820</th>\n",
       "      <td>2022-07-10 09:04:03+00:00</td>\n",
       "      <td>47.592542</td>\n",
       "      <td>12.180862</td>\n",
       "      <td>491.2</td>\n",
       "      <td>2022-07-10</td>\n",
       "      <td>0.373825</td>\n",
       "      <td>0.0</td>\n",
       "      <td>2.520757</td>\n",
       "    </tr>\n",
       "  </tbody>\n",
       "</table>\n",
       "</div>"
      ],
      "text/plain": [
       "                           time        lat        lon    ele        date  \\\n",
       "33816 2022-07-10 09:03:59+00:00  47.592552  12.180832  491.1  2022-07-10   \n",
       "33817 2022-07-10 09:04:00+00:00  47.592548  12.180844  491.2  2022-07-10   \n",
       "33818 2022-07-10 09:04:01+00:00  47.592545  12.180855  491.2  2022-07-10   \n",
       "33819 2022-07-10 09:04:02+00:00  47.592544  12.180858  491.2  2022-07-10   \n",
       "33820 2022-07-10 09:04:03+00:00  47.592542  12.180862  491.2  2022-07-10   \n",
       "\n",
       "           dist  ele_delta   CumDist  \n",
       "33816  0.000000        0.0  0.000000  \n",
       "33817  1.004920        0.1  1.004920  \n",
       "33818  0.890781        0.0  1.895702  \n",
       "33819  0.251230        0.0  2.146932  \n",
       "33820  0.373825        0.0  2.520757  "
      ]
     },
     "execution_count": 6,
     "metadata": {},
     "output_type": "execute_result"
    }
   ],
   "source": [
    "total_data = pd.DataFrame(temp_data, columns=['time', 'lat', 'lon', 'ele'])\n",
    "total_data['date'] = total_data['time'].dt.date\n",
    "total_data = total_data.sort_values(by=['time'])\n",
    "\n",
    "# Calculate distance\n",
    "temp_dist = [0]\n",
    "temp_ele = [0]\n",
    "for (ix1, row1), (ix2, row2) in zip(total_data.iloc[:-1].iterrows(), total_data.iloc[1:].iterrows()):\n",
    "    temp_dist.append(distance(\n",
    "                        latitude_1=row1['lat'],\n",
    "                        longitude_1=row1['lon'], \n",
    "                        elevation_1=None,\n",
    "                        latitude_2=row2['lat'],\n",
    "                        longitude_2=row2['lon'], \n",
    "                        elevation_2=None))\n",
    "    temp_ele.append(row2['ele'] - row1['ele'])\n",
    "\n",
    "total_data['dist'] = temp_dist\n",
    "total_data['ele_delta'] = temp_ele\n",
    "total_data['CumDist'] = total_data['dist'].cumsum()\n",
    "\n",
    "total_data.head()"
   ]
  },
  {
   "cell_type": "markdown",
   "metadata": {},
   "source": [
    "We need to filter these points as there are too many to plot, and we only need a point every 100 or so metres"
   ]
  },
  {
   "cell_type": "code",
   "execution_count": 7,
   "metadata": {},
   "outputs": [],
   "source": [
    "def filter_points(df, gaps=100):\n",
    "    # Defualt to taking a point every 100 metres\n",
    "    total_data['CumDist_div'] = (total_data['CumDist'] / gaps).astype(int)\n",
    "    filtered = total_data[total_data['CumDist_div'] != total_data['CumDist_div'].shift(1)]\n",
    "    return filtered.drop('CumDist_div', axis=1)\n",
    "\n",
    "filtered_data = filter_points(total_data)"
   ]
  },
  {
   "cell_type": "code",
   "execution_count": 177,
   "metadata": {},
   "outputs": [],
   "source": [
    "cmap = mpl.colormaps['Purples']\n",
    "filtered_data['perc_ele'] = filtered_data['ele'] / filtered_data['ele'].max()\n"
   ]
  },
  {
   "cell_type": "code",
   "execution_count": 178,
   "metadata": {},
   "outputs": [],
   "source": [
    "lat, lon, ele = filtered_data['lat'].to_list(), filtered_data['lon'].to_list(), filtered_data['perc_ele'].to_list()\n",
    "segs = np.array([[(lon[i], lat[i]), (lon[i+1], lat[i+1])] for i in range(len(lat)-1)])"
   ]
  },
  {
   "cell_type": "code",
   "execution_count": 199,
   "metadata": {},
   "outputs": [
    {
     "data": {
      "image/png": "[encoded data removed]",
      "text/plain": [
       "<Figure size 432x288 with 1 Axes>"
      ]
     },
     "metadata": {
      "needs_background": "light"
     },
     "output_type": "display_data"
    }
   ],
   "source": [
    "cols = mpl.collections.LineCollection(segs, cmap=cmap, norm=mpl.colors.Normalize(-0.1, 1))\n",
    "cols.set_array(ele[:-1])\n",
    "\n",
    "fig, ax = plt.subplots()\n",
    "ax.add_collection(cols)\n",
    "ax.autoscale_view()\n",
    "# ax.col\n",
    "\n",
    "plt.show()"
   ]
  },
  {
   "cell_type": "code",
   "execution_count": null,
   "metadata": {},
   "outputs": [],
   "source": []
  },
  {
   "cell_type": "code",
   "execution_count": null,
   "metadata": {},
   "outputs": [],
   "source": []
  }
 ],
 "metadata": {
  "kernelspec": {
   "display_name": "venv",
   "language": "python",
   "name": "venv"
  },
  "language_info": {
   "codemirror_mode": {
    "name": "ipython",
    "version": 3
   },
   "file_extension": ".py",
   "mimetype": "text/x-python",
   "name": "python",
   "nbconvert_exporter": "python",
   "pygments_lexer": "ipython3",
   "version": "3.9.18"
  }
 },
 "nbformat": 4,
 "nbformat_minor": 2
}
